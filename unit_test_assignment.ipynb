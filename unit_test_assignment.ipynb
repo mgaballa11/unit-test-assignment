{
 "cells": [
  {
   "cell_type": "markdown",
   "id": "4a9e848d-384e-4e54-a211-7004f01e37ed",
   "metadata": {},
   "source": [
    "# Unit Test Assignment\n",
    "\n",
    "This notebook explains a basic Python unit test using the `unittest` module.\n",
    "We created a function `add(a, b)` that adds two numbers.  \n",
    "Then, we wrote a test case to check if `add(2, 3)` returns `5`.\n",
    "\n",
    "The test passed successfully."
   ]
  },
  {
   "cell_type": "code",
   "execution_count": 1,
   "id": "66d951a3-2587-4c09-83ae-d567a9bf8749",
   "metadata": {},
   "outputs": [
    {
     "name": "stderr",
     "output_type": "stream",
     "text": [
      "C:\\Users\\Mgaba\\AppData\\Local\\Temp\\ipykernel_33036\\1914298720.py:10: DeprecationWarning: unittest.makeSuite() is deprecated and will be removed in Python 3.13. Please use unittest.TestLoader.loadTestsFromTestCase() instead.\n",
      "  unittest.TextTestRunner().run(unittest.makeSuite(TestMath))\n",
      ".\n",
      "----------------------------------------------------------------------\n",
      "Ran 1 test in 0.003s\n",
      "\n",
      "OK\n"
     ]
    },
    {
     "data": {
      "text/plain": [
       "<unittest.runner.TextTestResult run=1 errors=0 failures=0>"
      ]
     },
     "execution_count": 1,
     "metadata": {},
     "output_type": "execute_result"
    }
   ],
   "source": [
    "import unittest\n",
    "\n",
    "def add(a, b):\n",
    "    return a + b\n",
    "\n",
    "class TestMath(unittest.TestCase):\n",
    "    def test_add(self):\n",
    "        self.assertEqual(add(2, 3), 5)\n",
    "\n",
    "unittest.TextTestRunner().run(unittest.makeSuite(TestMath))\n"
   ]
  },
  {
   "cell_type": "code",
   "execution_count": null,
   "id": "6be42c56-b2e7-43b2-97cf-6fa003872781",
   "metadata": {},
   "outputs": [],
   "source": []
  }
 ],
 "metadata": {
  "kernelspec": {
   "display_name": "Python 3 (ipykernel)",
   "language": "python",
   "name": "python3"
  },
  "language_info": {
   "codemirror_mode": {
    "name": "ipython",
    "version": 3
   },
   "file_extension": ".py",
   "mimetype": "text/x-python",
   "name": "python",
   "nbconvert_exporter": "python",
   "pygments_lexer": "ipython3",
   "version": "3.12.7"
  }
 },
 "nbformat": 4,
 "nbformat_minor": 5
}
